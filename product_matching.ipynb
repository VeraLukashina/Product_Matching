{
 "cells": [
  {
   "cell_type": "markdown",
   "id": "0a49cf6c",
   "metadata": {
    "toc": true
   },
   "source": [
    "<h1>Table of Contents<span class=\"tocSkip\"></span></h1>\n",
    "<div class=\"toc\"><ul class=\"toc-item\"><li><span><a href=\"#Загрузка-и-исследование-данных.\" data-toc-modified-id=\"Загрузка-и-исследование-данных.-1\"><span class=\"toc-item-num\">1&nbsp;&nbsp;</span>Загрузка и исследование данных.</a></span></li></ul></div>"
   ]
  },
  {
   "cell_type": "markdown",
   "id": "d63ad6eb",
   "metadata": {},
   "source": [
    "# Сопоставление товаров на маркетплейсе"
   ]
  },
  {
   "cell_type": "markdown",
   "id": "aa007d8a",
   "metadata": {},
   "source": [
    "В рамках данного проекта решается задача сопоставления или \"мэтчинга\" товаров на крупном маркетплейсе."
   ]
  },
  {
   "cell_type": "markdown",
   "id": "a2ea5d1d",
   "metadata": {},
   "source": [
    "Основная цель проекта — создание эффективного алгоритма сопоставления товаров, который сможет предложить наиболее подходящие варианты товаров из базы данных для каждого товара из выборки. Оценка качества алгоритма будет производиться с использованием метрики accuracy@5."
   ]
  },
  {
   "cell_type": "markdown",
   "id": "e22ecf4b",
   "metadata": {},
   "source": [
    "**Описание данных:**\n",
    "\n",
    "Данные, предоставленные для анализа состоят из 4 наборов:\n",
    "\n",
    "* `base.csv` - база данных - анонимизированный набор товаров. Каждый товар представлен как уникальный id и вектор признаков размерностью 72.\n",
    "\n",
    "* `train.csv` - обучающий датасет. Каждая строчка - один товар, для которого известен уникальный id, вектор признаков и id товара из базы данных, который максимально похож на него (по мнению экспертов).\n",
    "\n",
    "* `validation.csv` - выборка - датасет с товарами, для которых надо найти наиболее близкие товары из базы данных.\n",
    "\n",
    "* `validation_answer.csv` - правильные ответы к выбоке."
   ]
  },
  {
   "cell_type": "markdown",
   "id": "bfef5d59",
   "metadata": {},
   "source": [
    "**Краткий план работы:**\n",
    "\n",
    "1. Загрузка и исследование данных.\n",
    "2. Разработка алгоритма сопоставления товаров.\n",
    "3. Создание индексов: Реализовать создание индексов в векторных базах данных для оптимизации процесса поиска.\n",
    "4. Обучение модели.\n",
    "5. Оценка качества модели."
   ]
  },
  {
   "cell_type": "markdown",
   "id": "d686d5bb",
   "metadata": {},
   "source": [
    "## Загрузка и исследование данных."
   ]
  },
  {
   "cell_type": "code",
   "execution_count": 1,
   "id": "52c7b15d",
   "metadata": {},
   "outputs": [],
   "source": [
    "import pandas as pd\n",
    "import numpy as np\n",
    "import matplotlib.pyplot as plt\n",
    "import seaborn as sns\n",
    "import sweetviz as sv"
   ]
  },
  {
   "cell_type": "code",
   "execution_count": null,
   "id": "b2f723b4",
   "metadata": {},
   "outputs": [],
   "source": []
  }
 ],
 "metadata": {
  "kernelspec": {
   "display_name": "Python 3 (ipykernel)",
   "language": "python",
   "name": "python3"
  },
  "language_info": {
   "codemirror_mode": {
    "name": "ipython",
    "version": 3
   },
   "file_extension": ".py",
   "mimetype": "text/x-python",
   "name": "python",
   "nbconvert_exporter": "python",
   "pygments_lexer": "ipython3",
   "version": "3.9.18"
  },
  "toc": {
   "base_numbering": 1,
   "nav_menu": {},
   "number_sections": true,
   "sideBar": true,
   "skip_h1_title": true,
   "title_cell": "Table of Contents",
   "title_sidebar": "Contents",
   "toc_cell": true,
   "toc_position": {
    "height": "calc(100% - 180px)",
    "left": "10px",
    "top": "150px",
    "width": "327.628px"
   },
   "toc_section_display": true,
   "toc_window_display": false
  },
  "varInspector": {
   "cols": {
    "lenName": 16,
    "lenType": 16,
    "lenVar": 40
   },
   "kernels_config": {
    "python": {
     "delete_cmd_postfix": "",
     "delete_cmd_prefix": "del ",
     "library": "var_list.py",
     "varRefreshCmd": "print(var_dic_list())"
    },
    "r": {
     "delete_cmd_postfix": ") ",
     "delete_cmd_prefix": "rm(",
     "library": "var_list.r",
     "varRefreshCmd": "cat(var_dic_list()) "
    }
   },
   "types_to_exclude": [
    "module",
    "function",
    "builtin_function_or_method",
    "instance",
    "_Feature"
   ],
   "window_display": false
  }
 },
 "nbformat": 4,
 "nbformat_minor": 5
}
